{
 "cells": [
  {
   "cell_type": "markdown",
   "metadata": {},
   "source": [
    "Memory management in Python involves a combination of automatic garbage collection, reference counting,\n",
    "and various internal optimizations to efficiently manage memory allocation and deallocation. Understanding\n",
    "these mechanisms can help developers write more efficient and robust applications.\n",
    "1. Key Concepts in Python Memory Management\n",
    "2. Memory Allocation and Deallocation\n",
    "3. Reference Counting\n",
    "4. Garbage Collection\n",
    "5. The gc Module\n",
    "6. Memory Management Best Practices"
   ]
  },
  {
   "cell_type": "code",
   "execution_count": null,
   "metadata": {},
   "outputs": [],
   "source": [
    "\"\"\" reference couting  \n",
    "### Reference |\n",
    "Reference counting is the primary method Python uses to manage memory. Each object in Python\n",
    "maintains a count of references pointing to it. When the reference count drops to zero, the memory\n",
    "occupied by the object is deallocated.  \"\"\"\n"
   ]
  },
  {
   "cell_type": "code",
   "execution_count": 5,
   "metadata": {},
   "outputs": [
    {
     "name": "stdout",
     "output_type": "stream",
     "text": [
      "2\n"
     ]
    }
   ],
   "source": [
    "import sys\n",
    "a = []\n",
    "\n",
    "# one refe is coming from a vrbale and one from getref count funcitons \n",
    "print(sys.getrefcount(a))"
   ]
  },
  {
   "cell_type": "code",
   "execution_count": 6,
   "metadata": {},
   "outputs": [
    {
     "name": "stdout",
     "output_type": "stream",
     "text": [
      "3\n"
     ]
    }
   ],
   "source": [
    "b = a\n",
    "print(sys.getrefcount(a))"
   ]
  },
  {
   "cell_type": "code",
   "execution_count": null,
   "metadata": {},
   "outputs": [],
   "source": [
    "#### Garbage Collection\n",
    "# Python includes a cyclic garbage collector to handle reference cycles. Reference cycles occur when\n",
    "# objects reference each other, preventing their reference counts from reaching zero.||"
   ]
  },
  {
   "cell_type": "code",
   "execution_count": 6,
   "metadata": {},
   "outputs": [],
   "source": [
    "import gc\n",
    "\n",
    "# enablee garbage collection\n",
    "gc.enable()\n"
   ]
  },
  {
   "cell_type": "code",
   "execution_count": 2,
   "metadata": {},
   "outputs": [],
   "source": [
    "gc.disable()"
   ]
  },
  {
   "cell_type": "code",
   "execution_count": 7,
   "metadata": {},
   "outputs": [
    {
     "data": {
      "text/plain": [
       "0"
      ]
     },
     "execution_count": 7,
     "metadata": {},
     "output_type": "execute_result"
    }
   ],
   "source": [
    "gc.collect()"
   ]
  },
  {
   "cell_type": "code",
   "execution_count": 9,
   "metadata": {},
   "outputs": [
    {
     "data": {
      "text/plain": [
       "[{'collections': 186, 'collected': 1535, 'uncollectable': 0},\n",
       " {'collections': 16, 'collected': 440, 'uncollectable': 0},\n",
       " {'collections': 5, 'collected': 59, 'uncollectable': 0}]"
      ]
     },
     "execution_count": 9,
     "metadata": {},
     "output_type": "execute_result"
    }
   ],
   "source": [
    "# get garbage colleciton stats \n",
    "gc.get_stats()"
   ]
  },
  {
   "cell_type": "code",
   "execution_count": 10,
   "metadata": {},
   "outputs": [
    {
     "name": "stdout",
     "output_type": "stream",
     "text": [
      "[]\n"
     ]
    }
   ],
   "source": [
    "# get unreacaele objects \n",
    "print(gc.garbage)"
   ]
  },
  {
   "cell_type": "code",
   "execution_count": 11,
   "metadata": {},
   "outputs": [
    {
     "data": {
      "text/plain": [
       "'5. Memory Management Best Practices\\n1. Use Local Variables: Local variables have a shorter lifespan and are freed sooner than global\\nvariables.\\n2. Avoid Circular References: Circular references can lead to memory leaks if not properly managed\\n3. Use Generators: Generators produce items one at a time and only keep one item in memory at a\\ntime, making them memory efficient.\\n4. Explicitly Delete Objects: Use the del statement to delete variables and objects explicitly.\\n5. Profile Memory Usage: Use memory profiling tools like tracemalloc and memory_profiler to\\nidentify memory leaks and optimize memory usage.'"
      ]
     },
     "execution_count": 11,
     "metadata": {},
     "output_type": "execute_result"
    }
   ],
   "source": [
    "\"\"\"5. Memory Management Best Practices\n",
    "1. Use Local Variables: Local variables have a shorter lifespan and are freed sooner than global\n",
    "variables.\n",
    "2. Avoid Circular References: Circular references can lead to memory leaks if not properly managed\n",
    "3. Use Generators: Generators produce items one at a time and only keep one item in memory at a\n",
    "time, making them memory efficient.\n",
    "4. Explicitly Delete Objects: Use the del statement to delete variables and objects explicitly.\n",
    "5. Profile Memory Usage: Use memory profiling tools like tracemalloc and memory_profiler to\n",
    "identify memory leaks and optimize memory usage.\"\"\""
   ]
  },
  {
   "cell_type": "code",
   "execution_count": 17,
   "metadata": {},
   "outputs": [
    {
     "name": "stdout",
     "output_type": "stream",
     "text": [
      "object1\n",
      "object2\n"
     ]
    }
   ],
   "source": [
    "import gc \n",
    "class myObject:\n",
    "    def __init__(self,name):\n",
    "        self.name = name\n",
    "        print(self.name)\n",
    "    def __del__(self):\n",
    "        print(f\"Object {self.name} deleted\")\n",
    "\n",
    "# create circular reference\n",
    "ob1 = myObject(\"object1\")\n",
    "ob2 = myObject(\"object2\")\n",
    "\n",
    "ob1.ref=ob2\n",
    "ob2.ref=ob1\n",
    "        "
   ]
  },
  {
   "cell_type": "code",
   "execution_count": 18,
   "metadata": {},
   "outputs": [
    {
     "data": {
      "text/plain": [
       "175"
      ]
     },
     "execution_count": 18,
     "metadata": {},
     "output_type": "execute_result"
    }
   ],
   "source": [
    "# manually triggered the garbage collector \n",
    "gc.collect()"
   ]
  },
  {
   "cell_type": "code",
   "execution_count": 19,
   "metadata": {},
   "outputs": [
    {
     "name": "stdout",
     "output_type": "stream",
     "text": [
      "0\n",
      "1\n",
      "2\n",
      "3\n",
      "4\n",
      "5\n",
      "6\n",
      "7\n",
      "8\n",
      "9\n",
      "10\n",
      "11\n"
     ]
    }
   ],
   "source": [
    "# generator for memory efficiency\n",
    "def generate_number(n):\n",
    "    for i in range(n):\n",
    "        yield i\n",
    "for num in generate_number(100):\n",
    "\n",
    "    print(num)\n",
    "    if num >10:\n",
    "        break"
   ]
  },
  {
   "cell_type": "code",
   "execution_count": 23,
   "metadata": {},
   "outputs": [],
   "source": [
    "# profiling memorry usage using tracemalloc\n",
    "import tracemalloc\n",
    "\n",
    "def create_list():\n",
    "    return [i for i in range(1000000)]\n",
    "def main():\n",
    "    tracemalloc.start()\n",
    "    create_list()\n",
    "    snapshot = tracemalloc.take_snapshot()\n",
    "    top_stats = snapshot.statistics('lineno')\n",
    "    for stat in top_stats[:10]:\n",
    "        print(stat)\n",
    "\n",
    "    \n",
    "\n",
    "\n"
   ]
  },
  {
   "cell_type": "code",
   "execution_count": 24,
   "metadata": {},
   "outputs": [
    {
     "name": "stdout",
     "output_type": "stream",
     "text": [
      "/tmp/ipykernel_10266/2152805610.py:6: size=38.6 MiB, count=999745, average=40 B\n",
      "/home/surajkatre/anaconda3/envs/langchain/lib/python3.11/ast.py:50: size=3274 KiB, count=46979, average=71 B\n",
      "/home/surajkatre/anaconda3/envs/langchain/lib/python3.11/site-packages/executing/executing.py:171: size=428 KiB, count=5848, average=75 B\n",
      "/home/surajkatre/anaconda3/envs/langchain/lib/python3.11/linecache.py:137: size=343 KiB, count=3343, average=105 B\n",
      "/home/surajkatre/anaconda3/envs/langchain/lib/python3.11/site-packages/executing/executing.py:154: size=340 KiB, count=3344, average=104 B\n",
      "/home/surajkatre/anaconda3/envs/langchain/lib/python3.11/site-packages/executing/executing.py:169: size=164 KiB, count=676, average=248 B\n",
      "/home/surajkatre/anaconda3/envs/langchain/lib/python3.11/site-packages/executing/executing.py:153: size=151 KiB, count=1, average=151 KiB\n",
      "<frozen posixpath>:394: size=138 KiB, count=996, average=142 B\n",
      "<string>:1: size=81.3 KiB, count=803, average=104 B\n",
      "/home/surajkatre/anaconda3/envs/langchain/lib/python3.11/site-packages/debugpy/_vendored/pydevd/pydevd.py:1339: size=72.0 KiB, count=1, average=72.0 KiB\n"
     ]
    }
   ],
   "source": [
    "main()"
   ]
  }
 ],
 "metadata": {
  "kernelspec": {
   "display_name": "langchain",
   "language": "python",
   "name": "python3"
  },
  "language_info": {
   "codemirror_mode": {
    "name": "ipython",
    "version": 3
   },
   "file_extension": ".py",
   "mimetype": "text/x-python",
   "name": "python",
   "nbconvert_exporter": "python",
   "pygments_lexer": "ipython3",
   "version": "3.11.9"
  }
 },
 "nbformat": 4,
 "nbformat_minor": 2
}
