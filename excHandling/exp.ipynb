{
 "cells": [
  {
   "cell_type": "code",
   "execution_count": 8,
   "metadata": {},
   "outputs": [
    {
     "name": "stdout",
     "output_type": "stream",
     "text": [
      "Exception name 'b' is not defined\n"
     ]
    }
   ],
   "source": [
    "# exception try except block\n",
    "\n",
    "try:\n",
    "    a=b\n",
    "except NameError as e:\n",
    "    print(\"Exception\", e)"
   ]
  },
  {
   "cell_type": "code",
   "execution_count": 11,
   "metadata": {},
   "outputs": [
    {
     "name": "stdout",
     "output_type": "stream",
     "text": [
      "Exception division by zero\n"
     ]
    }
   ],
   "source": [
    "\n",
    "try:\n",
    "    result = 1/0\n",
    "except ZeroDivisionError as e:\n",
    "    print(\"Exception\", e)\n",
    "except Exception as e:\n",
    "    print(\"An error occurred:\", e)\n",
    "    \n",
    "\n"
   ]
  },
  {
   "cell_type": "code",
   "execution_count": 15,
   "metadata": {},
   "outputs": [
    {
     "name": "stdout",
     "output_type": "stream",
     "text": [
      "No exception occurred.\n"
     ]
    }
   ],
   "source": [
    "# try except and else block \n",
    "try:\n",
    "    # num = 10/0\n",
    "    num = 10/2\n",
    "    \n",
    "except ZeroDivisionError as e:\n",
    "    print(\"Exception:\", e)\n",
    "except Exception as e:\n",
    "    print(\"An error occurred:\", e)\n",
    "else:\n",
    "    print(\"No exception occurred.\")\n",
    "\n"
   ]
  },
  {
   "cell_type": "code",
   "execution_count": 18,
   "metadata": {},
   "outputs": [
    {
     "name": "stdout",
     "output_type": "stream",
     "text": [
      "Exception: division by zero\n",
      "This block will always run.\n"
     ]
    }
   ],
   "source": [
    "# try except else and finally:\n",
    "try:\n",
    "    num = 10/0\n",
    "    # num = 10/20\n",
    "    \n",
    "except ZeroDivisionError as e:\n",
    "    print(\"Exception:\", e)\n",
    "except Exception as e:\n",
    "    print(\"An error occurred:\", e)\n",
    "else:\n",
    "    print(\"No exception occurred.\", num)\n",
    "finally:\n",
    "    print(\"This block will always run.\")"
   ]
  },
  {
   "cell_type": "code",
   "execution_count": null,
   "metadata": {},
   "outputs": [],
   "source": [
    "# file handling with exception handling\n",
    "try:\n",
    "    with open(\"abc.txt\", \"w\") as f:\n",
    "        f.write(\"Hello, this is a test.\")\n",
    "    except"
   ]
  },
  {
   "cell_type": "code",
   "execution_count": null,
   "metadata": {},
   "outputs": [],
   "source": []
  },
  {
   "cell_type": "code",
   "execution_count": null,
   "metadata": {},
   "outputs": [],
   "source": []
  }
 ],
 "metadata": {
  "kernelspec": {
   "display_name": "langchain",
   "language": "python",
   "name": "python3"
  },
  "language_info": {
   "codemirror_mode": {
    "name": "ipython",
    "version": 3
   },
   "file_extension": ".py",
   "mimetype": "text/x-python",
   "name": "python",
   "nbconvert_exporter": "python",
   "pygments_lexer": "ipython3",
   "version": "3.11.9"
  }
 },
 "nbformat": 4,
 "nbformat_minor": 2
}
