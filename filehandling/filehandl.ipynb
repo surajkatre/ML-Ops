{
 "cells": [
  {
   "cell_type": "code",
   "execution_count": 8,
   "metadata": {},
   "outputs": [
    {
     "data": {
      "text/plain": [
       "'hello boys lets fo\\najksdas\\najsdbasl\\n'"
      ]
     },
     "execution_count": 8,
     "metadata": {},
     "output_type": "execute_result"
    }
   ],
   "source": [
    "with open(\"abc.txt\", 'r') as file:\n",
    "    content = file.read()\n",
    "content "
   ]
  },
  {
   "cell_type": "code",
   "execution_count": 9,
   "metadata": {},
   "outputs": [
    {
     "name": "stdout",
     "output_type": "stream",
     "text": [
      "hello boys lets fo\n",
      "ajksdas\n",
      "ajsdbasl\n",
      "\n"
     ]
    }
   ],
   "source": [
    "# readingline by line\n",
    "for line in content.split('\\\\n'):\n",
    "    print(line)\n"
   ]
  },
  {
   "cell_type": "code",
   "execution_count": 12,
   "metadata": {},
   "outputs": [],
   "source": [
    "# writing a file\n",
    "\n",
    "with open(\"examle.txt\", \"a\") as f:\n",
    "    f.write(\"Hello, this is a test.\")\n",
    "    f.write(\"\\nThis is another line.\")\n",
    "    f.write(\"\\nThis is another new .\")\n",
    "\n"
   ]
  },
  {
   "cell_type": "code",
   "execution_count": 15,
   "metadata": {},
   "outputs": [],
   "source": [
    "# writing list of line to files \n",
    "lines = [\"first line /n\", \"second line /n\", \"third line /n\", \"fourth line /n\", \"fifth line\"]\n",
    "with open(\"examle_list.txt\", \"a\") as f:\n",
    "    f.writelines(lines)"
   ]
  },
  {
   "cell_type": "code",
   "execution_count": 24,
   "metadata": {},
   "outputs": [
    {
     "data": {
      "text/plain": [
       "'Hello, this is a test.\\nThis is another line.\\nThis is another new line.\\n'"
      ]
     },
     "execution_count": 24,
     "metadata": {},
     "output_type": "execute_result"
    }
   ],
   "source": [
    "# writing and then reading  file /\n",
    "# # \n",
    "with open(\"examle_list.txt\", \"w+\") as f:\n",
    "    f.write(\"Hello, this is a test.\\nThis is another line.\\nThis is another new line.\\n\")\n",
    "    f.seek(0) #move the cursort to the beginning\n",
    "    content = f.read()\n",
    "content"
   ]
  },
  {
   "cell_type": "code",
   "execution_count": 25,
   "metadata": {},
   "outputs": [
    {
     "name": "stdout",
     "output_type": "stream",
     "text": [
      " new directory as paackage\n"
     ]
    }
   ],
   "source": [
    "# create a new direcotry\n",
    "import os\n",
    "new_directory =  \"paackage\"\n",
    "os.mkdir(new_directory)\n",
    "print(f\" new directory as {new_directory}\")\n",
    "\n"
   ]
  },
  {
   "cell_type": "code",
   "execution_count": 28,
   "metadata": {},
   "outputs": [
    {
     "data": {
      "text/plain": [
       "['examle_list.txt', 'examle.txt', 'paackage', 'filehandl.ipynb', 'abc.txt']"
      ]
     },
     "execution_count": 28,
     "metadata": {},
     "output_type": "execute_result"
    }
   ],
   "source": [
    "items  = os.listdir('.')\n",
    "items"
   ]
  },
  {
   "cell_type": "code",
   "execution_count": 30,
   "metadata": {},
   "outputs": [
    {
     "name": "stdout",
     "output_type": "stream",
     "text": [
      "folder/file.txt\n"
     ]
    }
   ],
   "source": [
    "# Joining paths\n",
    "dir_name = 'folder'\n",
    "file_name = 'file.txt'\n",
    "full_path= os.path.join( dir_name,file_name)\n",
    "print(full_path)"
   ]
  }
 ],
 "metadata": {
  "kernelspec": {
   "display_name": "langchain",
   "language": "python",
   "name": "python3"
  },
  "language_info": {
   "codemirror_mode": {
    "name": "ipython",
    "version": 3
   },
   "file_extension": ".py",
   "mimetype": "text/x-python",
   "name": "python",
   "nbconvert_exporter": "python",
   "pygments_lexer": "ipython3",
   "version": "3.11.9"
  }
 },
 "nbformat": 4,
 "nbformat_minor": 2
}
