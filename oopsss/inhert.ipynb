{
 "cells": [
  {
   "cell_type": "code",
   "execution_count": 2,
   "metadata": {},
   "outputs": [],
   "source": [
    "# Parent class \n",
    "class Car:\n",
    "    def __init__(self, windows, model, year):\n",
    "        self.windows = windows\n",
    "        self.model = model\n",
    "        self.year = year\n",
    "    def drive(self):\n",
    "        print(f\"the perso will drive {self.model}  car from  {self.year}\")\n",
    "car1 = Car(4,\"petrol\", 2010)\n",
    "    "
   ]
  },
  {
   "cell_type": "code",
   "execution_count": 3,
   "metadata": {},
   "outputs": [
    {
     "name": "stdout",
     "output_type": "stream",
     "text": [
      "the perso will drive petrol  car from  2010\n"
     ]
    }
   ],
   "source": [
    "car1.drive()"
   ]
  },
  {
   "cell_type": "code",
   "execution_count": 4,
   "metadata": {},
   "outputs": [],
   "source": [
    "# Single inheritance\n",
    "class Tesla(Car):\n",
    "    def __init__(self, windows, model, year, isseflfdrive):\n",
    "        super().__init__(windows, model, year)\n",
    "        self.isselfdrive = isseflfdrive\n",
    "    def isselfdrive(self):\n",
    "        print(f\"the car {self.model} runs on {self.isselfdriver} mode\")\n",
    "T1 = Tesla(4,\"pertro;\",1000, \"yes\")\n",
    "    \n"
   ]
  },
  {
   "cell_type": "code",
   "execution_count": 7,
   "metadata": {},
   "outputs": [
    {
     "name": "stdout",
     "output_type": "stream",
     "text": [
      "the perso will drive pertro;  car from  1000\n"
     ]
    }
   ],
   "source": [
    "T1.isselfdrive\n",
    "T1.drive()"
   ]
  },
  {
   "cell_type": "code",
   "execution_count": 9,
   "metadata": {},
   "outputs": [],
   "source": [
    "# # multiple inheritance\n",
    "# when  a cass iherit from more than onebase class \n",
    "\n",
    "# Base class 1\n",
    "class Animal:\n",
    "    def __init__(self, name):\n",
    "        self.name = name\n",
    "    def speak(self):\n",
    "        print(\"haaooajad js\")\n",
    "# base class 2\n",
    "\n",
    "class owner:\n",
    "    def __init__(self, name):\n",
    "        self.name = name\n",
    "\n",
    "\n",
    "class Dog(Animal,owner):\n",
    "    def __init__(self, name, owner_name):\n",
    "        Animal.__init__(self, name)\n",
    "        owner.__init__(self, owner_name)\n",
    "    def bark(self):\n",
    "        print(f\"{self.name} is barking\")"
   ]
  },
  {
   "cell_type": "code",
   "execution_count": 10,
   "metadata": {},
   "outputs": [],
   "source": [
    "first = Dog(\"mackey\",\"kako\")"
   ]
  },
  {
   "cell_type": "code",
   "execution_count": 11,
   "metadata": {},
   "outputs": [
    {
     "name": "stdout",
     "output_type": "stream",
     "text": [
      "haaooajad js\n"
     ]
    }
   ],
   "source": [
    "first.speak()"
   ]
  },
  {
   "cell_type": "code",
   "execution_count": null,
   "metadata": {},
   "outputs": [],
   "source": []
  }
 ],
 "metadata": {
  "kernelspec": {
   "display_name": "Python (xperio)",
   "language": "python",
   "name": "myenv"
  },
  "language_info": {
   "codemirror_mode": {
    "name": "ipython",
    "version": 3
   },
   "file_extension": ".py",
   "mimetype": "text/x-python",
   "name": "python",
   "nbconvert_exporter": "python",
   "pygments_lexer": "ipython3",
   "version": "3.9.19"
  }
 },
 "nbformat": 4,
 "nbformat_minor": 2
}
