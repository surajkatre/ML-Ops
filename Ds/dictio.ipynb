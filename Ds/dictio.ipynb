{
 "cells": [
  {
   "cell_type": "code",
   "execution_count": null,
   "metadata": {},
   "outputs": [],
   "source": [
    "# this are unordered collection of items. They store data in key value pair key must be unique and  immutable "
   ]
  },
  {
   "cell_type": "code",
   "execution_count": 2,
   "metadata": {},
   "outputs": [
    {
     "name": "stdout",
     "output_type": "stream",
     "text": [
      "<class 'dict'>\n",
      "<class 'dict'>\n"
     ]
    }
   ],
   "source": [
    "# creatinf a dict\n",
    "mydict = dict()\n",
    "mydic1 = {}\n",
    "print(type(mydict))\n",
    "print(type(mydic1))"
   ]
  },
  {
   "cell_type": "code",
   "execution_count": 14,
   "metadata": {},
   "outputs": [
    {
     "name": "stdout",
     "output_type": "stream",
     "text": [
      "10\n",
      "{'name': 'suraj', 'age': 10, 'grade': 'y'}\n"
     ]
    }
   ],
   "source": [
    "# single key is used only\n",
    "\n",
    "prs = {\"name\":\"suraj\", \"age\": 10, \"name\" : \"y\"}\n",
    "print(prs[\"age\"])\n",
    "print(prs)\n"
   ]
  },
  {
   "cell_type": "code",
   "execution_count": 16,
   "metadata": {},
   "outputs": [
    {
     "name": "stdout",
     "output_type": "stream",
     "text": [
      "10\n",
      "suraj\n",
      "suraj\n",
      "not found\n"
     ]
    }
   ],
   "source": [
    "# accessing dict elements\n",
    "prs = {\"name\":\"suraj\", \"age\": 10, \"grade\" : \"y\"}\n",
    "print(prs[\"age\"])\n",
    "print(prs[\"name\"])\n",
    "# accessing usig get methods \n",
    "print(prs.get(\"name\"))\n",
    "print(prs.get(\"_ast_name\",\"not found\"))\n"
   ]
  },
  {
   "cell_type": "code",
   "execution_count": 19,
   "metadata": {},
   "outputs": [
    {
     "name": "stdout",
     "output_type": "stream",
     "text": [
      "{'name': 'suraj', 'age': 11, 'grade': 'y', 'address': 'Nagpur'}\n",
      "{'name': 'suraj', 'age': 11, 'grade': 'y', 'address': 'Nagpur'}\n"
     ]
    }
   ],
   "source": [
    "# modifying dict elemt\n",
    "# dic are utable, you can add update, or dlt but key should be uqiye\n",
    "\n",
    "print(prs)\n",
    "prs[\"age\"] = 11\n",
    "prs[\"address\"] =\"Nagpur\"\n",
    "print(prs)"
   ]
  },
  {
   "cell_type": "code",
   "execution_count": 23,
   "metadata": {},
   "outputs": [
    {
     "ename": "KeyError",
     "evalue": "'age'",
     "output_type": "error",
     "traceback": [
      "\u001b[0;31m---------------------------------------------------------------------------\u001b[0m",
      "\u001b[0;31mKeyError\u001b[0m                                  Traceback (most recent call last)",
      "Cell \u001b[0;32mIn[23], line 1\u001b[0m\n\u001b[0;32m----> 1\u001b[0m \u001b[38;5;28;01mdel\u001b[39;00m \u001b[43mprs\u001b[49m\u001b[43m[\u001b[49m\u001b[38;5;124;43m\"\u001b[39;49m\u001b[38;5;124;43mage\u001b[39;49m\u001b[38;5;124;43m\"\u001b[39;49m\u001b[43m]\u001b[49m\n\u001b[1;32m      2\u001b[0m prs\n",
      "\u001b[0;31mKeyError\u001b[0m: 'age'"
     ]
    }
   ],
   "source": [
    "del prs[\"age\"]\n",
    "prs"
   ]
  },
  {
   "cell_type": "code",
   "execution_count": 27,
   "metadata": {},
   "outputs": [
    {
     "name": "stdout",
     "output_type": "stream",
     "text": [
      "dict_keys(['name', 'grade', 'address'])\n",
      "dict_values(['suraj', 'y', 'Nagpur'])\n",
      "dict_items([('name', 'suraj'), ('grade', 'y'), ('address', 'Nagpur')])\n"
     ]
    }
   ],
   "source": [
    "# Dictionary methods\n",
    "keys = prs.keys()\n",
    "print(keys)\n",
    "print(prs.values())\n",
    "\n",
    "itemzs = prs.items()\n",
    "print(itemzs)"
   ]
  },
  {
   "cell_type": "code",
   "execution_count": 30,
   "metadata": {},
   "outputs": [
    {
     "name": "stdout",
     "output_type": "stream",
     "text": [
      "{'name': 'suraj', 'age': 11, 'grade': 'y', 'address': 'Nagpur'}\n",
      "{'name': 'krish', 'age': 11, 'grade': 'y', 'address': 'Nagpur'}\n",
      "{'name': 'suraj', 'grade': 'y', 'address': 'Nagpur'}\n"
     ]
    }
   ],
   "source": [
    "# ?shallow copy\n",
    "\n",
    "student = {'name': 'suraj', 'age': 11, 'grade': 'y', 'address': 'Nagpur'}\n",
    "print(student)\n",
    "student[\"name\"] =\"krish\"\n",
    "print(student)\n",
    "print(prs)"
   ]
  },
  {
   "cell_type": "code",
   "execution_count": 33,
   "metadata": {},
   "outputs": [
    {
     "name": "stdout",
     "output_type": "stream",
     "text": [
      "{'name': 'suraj', 'grade': 'y', 'address': 'Nagpur'}\n"
     ]
    }
   ],
   "source": [
    "print(  prs\n",
    "st = {'name': 'suraj', 'grade': 'y', 'address': 'Nagpur'}\n",
    "print(st)"
   ]
  },
  {
   "cell_type": "code",
   "execution_count": null,
   "metadata": {},
   "outputs": [],
   "source": []
  },
  {
   "cell_type": "code",
   "execution_count": null,
   "metadata": {},
   "outputs": [],
   "source": []
  },
  {
   "cell_type": "code",
   "execution_count": null,
   "metadata": {},
   "outputs": [],
   "source": []
  },
  {
   "cell_type": "code",
   "execution_count": null,
   "metadata": {},
   "outputs": [],
   "source": []
  }
 ],
 "metadata": {
  "kernelspec": {
   "display_name": "langchain",
   "language": "python",
   "name": "python3"
  },
  "language_info": {
   "codemirror_mode": {
    "name": "ipython",
    "version": 3
   },
   "file_extension": ".py",
   "mimetype": "text/x-python",
   "name": "python",
   "nbconvert_exporter": "python",
   "pygments_lexer": "ipython3",
   "version": "3.11.9"
  }
 },
 "nbformat": 4,
 "nbformat_minor": 2
}
