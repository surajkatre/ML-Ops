{
 "cells": [
  {
   "cell_type": "code",
   "execution_count": 1,
   "metadata": {},
   "outputs": [
    {
     "name": "stdout",
     "output_type": "stream",
     "text": [
      "he\n"
     ]
    }
   ],
   "source": [
    "print(\"he\")"
   ]
  },
  {
   "cell_type": "code",
   "execution_count": 2,
   "metadata": {},
   "outputs": [
    {
     "name": "stdout",
     "output_type": "stream",
     "text": [
      "<class 'list'>\n"
     ]
    }
   ],
   "source": [
    "ls =[]\n",
    "type(ls)\n",
    "print(type(ls))"
   ]
  },
  {
   "cell_type": "code",
   "execution_count": null,
   "metadata": {},
   "outputs": [],
   "source": []
  },
  {
   "cell_type": "code",
   "execution_count": 1,
   "metadata": {},
   "outputs": [
    {
     "name": "stdout",
     "output_type": "stream",
     "text": [
      "[]\n"
     ]
    }
   ],
   "source": [
    "ls  = ['a' ,'b','c', 'd']\n",
    "\n",
    "\n",
    "# print(ls[-1])\n",
    "\n",
    "print(ls[1:0])"
   ]
  },
  {
   "cell_type": "code",
   "execution_count": 4,
   "metadata": {},
   "outputs": [
    {
     "name": "stdout",
     "output_type": "stream",
     "text": [
      "Index: 88, Value: a\n",
      "Index: 89, Value: b\n",
      "Index: 90, Value: c\n",
      "Index: 91, Value: d\n"
     ]
    }
   ],
   "source": [
    "for i, n in enumerate(ls,88):\n",
    "    print(f\"Index: {i}, Value: {n}\")"
   ]
  },
  {
   "cell_type": "code",
   "execution_count": null,
   "metadata": {},
   "outputs": [],
   "source": []
  },
  {
   "cell_type": "code",
   "execution_count": 14,
   "metadata": {},
   "outputs": [
    {
     "name": "stdout",
     "output_type": "stream",
     "text": [
      "[(0, 'abs'), (0, 'absArithmeticError'), (0, 'ab'), (2, 'abs'), (2, 'absArithmeticError'), (2, 'ab'), (4, 'abs'), (4, 'absArithmeticError'), (4, 'ab'), (6, 'abs'), (6, 'absArithmeticError'), (6, 'ab'), (8, 'abs'), (8, 'absArithmeticError'), (8, 'ab')]\n"
     ]
    }
   ],
   "source": [
    "# list comprehenstion\n",
    "ls = [ i**2 for i in range(10)  ]\n",
    "ls\n",
    "ls = [ i for i in range(10) if i%2==0  ]\n",
    "ls\n",
    "# nested list comprehension\n",
    "new = ['abs', 'abs'\"ArithmeticError\", 'ab']\n",
    "pair = [(i,j) for i in (ls) for j in (new)]\n",
    "print(pair)"
   ]
  },
  {
   "cell_type": "code",
   "execution_count": 24,
   "metadata": {},
   "outputs": [
    {
     "data": {
      "text/plain": [
       "['a', 'b', 'c', 'd']"
      ]
     },
     "execution_count": 24,
     "metadata": {},
     "output_type": "execute_result"
    }
   ],
   "source": [
    "# ls.append(\"koooo\")\n",
    "# ls.insert(2,\"hi\")\n",
    "ls\n",
    "# ls.remove(\"hi\")\n",
    "ls\n",
    "ls.pop()\n",
    "ls"
   ]
  },
  {
   "cell_type": "code",
   "execution_count": 7,
   "metadata": {},
   "outputs": [
    {
     "name": "stdout",
     "output_type": "stream",
     "text": [
      "a\n",
      "b\n",
      "c\n",
      "d\n"
     ]
    }
   ],
   "source": [
    "ls  = ['a' ,'b','c', 'd']\n",
    "for i in ls:\n",
    "    print(i)"
   ]
  },
  {
   "cell_type": "code",
   "execution_count": 8,
   "metadata": {},
   "outputs": [
    {
     "name": "stdout",
     "output_type": "stream",
     "text": [
      "[1, 1, 1, 1, 1]\n"
     ]
    }
   ],
   "source": [
    "wordss = \"suraj\"\n",
    "print([len(i)for i in wordss])"
   ]
  },
  {
   "cell_type": "code",
   "execution_count": 12,
   "metadata": {},
   "outputs": [
    {
     "name": "stdout",
     "output_type": "stream",
     "text": [
      "40\n"
     ]
    },
    {
     "data": {
      "text/plain": [
       "[{'name': 'raj', 'score': 90},\n",
       " {'name': 'Suraj', 'score': 40},\n",
       " {'name': 'akkk', 'score': 0}]"
      ]
     },
     "execution_count": 12,
     "metadata": {},
     "output_type": "execute_result"
    }
   ],
   "source": [
    "my_dict = {\"name\": \"Suraj\", \"score\": 40}\n",
    "print(my_dict[\"score\"])\n",
    "\n",
    "ls = [\n",
    "    {\"name\": \"Suraj\", \"score\": 40},\n",
    "    {\"name\": \"raj\", \"score\": 90},\n",
    "    {\"name\": \"akkk\", \"score\": 0}\n",
    "\n",
    "\n",
    "]\n",
    "sorted_ls = sorted(ls, key=lambda x: x[\"score\"], reverse=True)\n",
    "sorted_ls"
   ]
  }
 ],
 "metadata": {
  "kernelspec": {
   "display_name": "langchain",
   "language": "python",
   "name": "python3"
  },
  "language_info": {
   "codemirror_mode": {
    "name": "ipython",
    "version": 3
   },
   "file_extension": ".py",
   "mimetype": "text/x-python",
   "name": "python",
   "nbconvert_exporter": "python",
   "pygments_lexer": "ipython3",
   "version": "3.11.9"
  }
 },
 "nbformat": 4,
 "nbformat_minor": 2
}
