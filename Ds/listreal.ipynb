{
 "cells": [
  {
   "cell_type": "code",
   "execution_count": 11,
   "metadata": {},
   "outputs": [
    {
     "name": "stdout",
     "output_type": "stream",
     "text": [
      "['Buy', 'cleaningfood']\n",
      "['Buy', 'cleaningfood', 'scplaying']\n",
      "remanaing...\n",
      "Buy\n",
      "cleaningfood\n"
     ]
    }
   ],
   "source": [
    "todo=[\"Buy\", \"cleaning\" \"food\"]\n",
    "print(todo)\n",
    "todo.append(\"scplaying\")\n",
    "print(todo)\n",
    "\n",
    "todo.remove(\"scplaying\")\n",
    "# print(todo)\n",
    "# todo.pop()\n",
    "# print(todo)\n",
    "if \"food\"  in todo:\n",
    "    print(\"eat\")\n",
    "print(\"remanaing...\") \n",
    "for item in todo:\n",
    "    print(item)"
   ]
  },
  {
   "cell_type": "code",
   "execution_count": null,
   "metadata": {},
   "outputs": [],
   "source": []
  },
  {
   "cell_type": "code",
   "execution_count": null,
   "metadata": {},
   "outputs": [],
   "source": []
  },
  {
   "cell_type": "code",
   "execution_count": null,
   "metadata": {},
   "outputs": [],
   "source": []
  },
  {
   "cell_type": "code",
   "execution_count": null,
   "metadata": {},
   "outputs": [],
   "source": []
  },
  {
   "cell_type": "code",
   "execution_count": null,
   "metadata": {},
   "outputs": [],
   "source": []
  },
  {
   "cell_type": "code",
   "execution_count": null,
   "metadata": {},
   "outputs": [],
   "source": []
  }
 ],
 "metadata": {
  "kernelspec": {
   "display_name": "langchain",
   "language": "python",
   "name": "python3"
  },
  "language_info": {
   "codemirror_mode": {
    "name": "ipython",
    "version": 3
   },
   "file_extension": ".py",
   "mimetype": "text/x-python",
   "name": "python",
   "nbconvert_exporter": "python",
   "pygments_lexer": "ipython3",
   "version": "3.11.9"
  }
 },
 "nbformat": 4,
 "nbformat_minor": 2
}
