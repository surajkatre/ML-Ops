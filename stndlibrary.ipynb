{
 "cells": [
  {
   "cell_type": "code",
   "execution_count": null,
   "metadata": {},
   "outputs": [],
   "source": []
  },
  {
   "cell_type": "code",
   "execution_count": 3,
   "metadata": {},
   "outputs": [
    {
     "data": {
      "text/plain": [
       "[15, 3, 18, 5, 7, 18, 6, 7, 7, 20, 17, 6, 7, 2, 1]"
      ]
     },
     "execution_count": 3,
     "metadata": {},
     "output_type": "execute_result"
    }
   ],
   "source": [
    "import random\n",
    "\n",
    "def generate_random_numbers(n):\n",
    "    random_numbers = [random.randint(1, 20) for _ in range(n)]\n",
    "    return random_numbers\n",
    "\n",
    "generate_random_numbers(15)"
   ]
  },
  {
   "cell_type": "code",
   "execution_count": 4,
   "metadata": {},
   "outputs": [
    {
     "name": "stdout",
     "output_type": "stream",
     "text": [
      "/home/surajkatre/Documents/ML_Ops\n"
     ]
    }
   ],
   "source": [
    "# file and directory \n",
    "import os\n",
    "print(os.getcwd())"
   ]
  },
  {
   "cell_type": "code",
   "execution_count": null,
   "metadata": {},
   "outputs": [],
   "source": [
    "os.mkdir()"
   ]
  },
  {
   "cell_type": "code",
   "execution_count": 10,
   "metadata": {},
   "outputs": [
    {
     "name": "stdout",
     "output_type": "stream",
     "text": [
      "{\"name\": \"John Doe\", \"age\": 30, \"city\": \"New York\"}\n",
      "<class 'dict'>\n"
     ]
    }
   ],
   "source": [
    "# data serialization\n",
    "import json \n",
    "data = {\n",
    "    'name': 'John Doe',\n",
    "    'age': 30,\n",
    "    'city': 'New York'\n",
    "}\n",
    "jsondata = json.dumps(data)\n",
    "print(jsondata)\n",
    "parseddata = json.loads(jsondata)\n",
    "print(type(parseddata))"
   ]
  },
  {
   "cell_type": "code",
   "execution_count": null,
   "metadata": {},
   "outputs": [],
   "source": [
    "with open(\"data.csv\", \"w\") as file:\n",
    "    writer = file.writer([\"name\", \"suraj\"])\n",
    "    \n",
    "                         \n",
    "                         "
   ]
  }
 ],
 "metadata": {
  "kernelspec": {
   "display_name": "langchain",
   "language": "python",
   "name": "python3"
  },
  "language_info": {
   "codemirror_mode": {
    "name": "ipython",
    "version": 3
   },
   "file_extension": ".py",
   "mimetype": "text/x-python",
   "name": "python",
   "nbconvert_exporter": "python",
   "pygments_lexer": "ipython3",
   "version": "3.11.9"
  }
 },
 "nbformat": 4,
 "nbformat_minor": 2
}
