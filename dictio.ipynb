{
 "cells": [
  {
   "cell_type": "code",
   "execution_count": null,
   "metadata": {},
   "outputs": [],
   "source": [
    "# this are unordered collection of items. They store data in key value pair key must be unique and  immutable "
   ]
  },
  {
   "cell_type": "code",
   "execution_count": 2,
   "metadata": {},
   "outputs": [
    {
     "name": "stdout",
     "output_type": "stream",
     "text": [
      "<class 'dict'>\n",
      "<class 'dict'>\n"
     ]
    }
   ],
   "source": [
    "# creatinf a dict\n",
    "mydict = dict()\n",
    "mydic1 = {}\n",
    "print(type(mydict))\n",
    "print(type(mydic1))"
   ]
  },
  {
   "cell_type": "code",
   "execution_count": 14,
   "metadata": {},
   "outputs": [
    {
     "name": "stdout",
     "output_type": "stream",
     "text": [
      "10\n",
      "{'name': 'suraj', 'age': 10, 'grade': 'y'}\n"
     ]
    }
   ],
   "source": [
    "# single key is used only\n",
    "\n",
    "prs = {\"name\":\"suraj\", \"age\": 10, \"name\" : \"y\"}\n",
    "print(prs[\"age\"])\n",
    "print(prs)\n"
   ]
  },
  {
   "cell_type": "code",
   "execution_count": 16,
   "metadata": {},
   "outputs": [
    {
     "name": "stdout",
     "output_type": "stream",
     "text": [
      "10\n",
      "suraj\n",
      "suraj\n",
      "not found\n"
     ]
    }
   ],
   "source": [
    "# accessing dict elements\n",
    "prs = {\"name\":\"suraj\", \"age\": 10, \"grade\" : \"y\"}\n",
    "print(prs[\"age\"])\n",
    "print(prs[\"name\"])\n",
    "# accessing usig get methods \n",
    "print(prs.get(\"name\"))\n",
    "print(prs.get(\"_ast_name\",\"not found\"))\n"
   ]
  },
  {
   "cell_type": "code",
   "execution_count": 19,
   "metadata": {},
   "outputs": [
    {
     "name": "stdout",
     "output_type": "stream",
     "text": [
      "{'name': 'suraj', 'age': 11, 'grade': 'y', 'address': 'Nagpur'}\n",
      "{'name': 'suraj', 'age': 11, 'grade': 'y', 'address': 'Nagpur'}\n"
     ]
    }
   ],
   "source": [
    "# modifying dict elemt\n",
    "# dic are utable, you can add update, or dlt but key should be uqiye\n",
    "\n",
    "print(prs)\n",
    "prs[\"age\"] = 11\n",
    "prs[\"address\"] =\"Nagpur\"\n",
    "print(prs)"
   ]
  },
  {
   "cell_type": "code",
   "execution_count": 23,
   "metadata": {},
   "outputs": [
    {
     "ename": "KeyError",
     "evalue": "'age'",
     "output_type": "error",
     "traceback": [
      "\u001b[0;31m---------------------------------------------------------------------------\u001b[0m",
      "\u001b[0;31mKeyError\u001b[0m                                  Traceback (most recent call last)",
      "Cell \u001b[0;32mIn[23], line 1\u001b[0m\n\u001b[0;32m----> 1\u001b[0m \u001b[38;5;28;01mdel\u001b[39;00m \u001b[43mprs\u001b[49m\u001b[43m[\u001b[49m\u001b[38;5;124;43m\"\u001b[39;49m\u001b[38;5;124;43mage\u001b[39;49m\u001b[38;5;124;43m\"\u001b[39;49m\u001b[43m]\u001b[49m\n\u001b[1;32m      2\u001b[0m prs\n",
      "\u001b[0;31mKeyError\u001b[0m: 'age'"
     ]
    }
   ],
   "source": [
    "del prs[\"age\"]\n",
    "prs"
   ]
  },
  {
   "cell_type": "code",
   "execution_count": 27,
   "metadata": {},
   "outputs": [
    {
     "name": "stdout",
     "output_type": "stream",
     "text": [
      "dict_keys(['name', 'grade', 'address'])\n",
      "dict_values(['suraj', 'y', 'Nagpur'])\n",
      "dict_items([('name', 'suraj'), ('grade', 'y'), ('address', 'Nagpur')])\n"
     ]
    }
   ],
   "source": [
    "# Dictionary methods\n",
    "keys = prs.keys()\n",
    "print(keys)\n",
    "print(prs.values())\n",
    "\n",
    "itemzs = prs.items()\n",
    "print(itemzs)"
   ]
  },
  {
   "cell_type": "code",
   "execution_count": 30,
   "metadata": {},
   "outputs": [
    {
     "name": "stdout",
     "output_type": "stream",
     "text": [
      "{'name': 'suraj', 'age': 11, 'grade': 'y', 'address': 'Nagpur'}\n",
      "{'name': 'krish', 'age': 11, 'grade': 'y', 'address': 'Nagpur'}\n",
      "{'name': 'suraj', 'grade': 'y', 'address': 'Nagpur'}\n"
     ]
    }
   ],
   "source": [
    "# ?shallow copy\n",
    "\n",
    "student = {'name': 'suraj', 'age': 11, 'grade': 'y', 'address': 'Nagpur'}\n",
    "print(student)\n",
    "student[\"name\"] =\"krish\"\n",
    "print(student)\n",
    "print(prs)"
   ]
  },
  {
   "cell_type": "code",
   "execution_count": 44,
   "metadata": {},
   "outputs": [
    {
     "name": "stdout",
     "output_type": "stream",
     "text": [
      "{'name': 'raju', 'grade': 'y', 'address': 'Nagpur'}\n",
      "{'name': 'raju', 'grade': 'y', 'address': 'Nagpur'}\n"
     ]
    }
   ],
   "source": [
    "print(prs)\n",
    "cop = {'name': 'raju', 'grade': 'y', 'address': 'Nagpur'}\n",
    "print(cop)\n",
    "prs[\"name\"] =\"krhoneyy\""
   ]
  },
  {
   "cell_type": "code",
   "execution_count": 46,
   "metadata": {},
   "outputs": [
    {
     "name": "stdout",
     "output_type": "stream",
     "text": [
      "{'name': 'krhoneyy', 'grade': 'y', 'address': 'Nagpur'}\n"
     ]
    }
   ],
   "source": [
    "newdic = prs.copy()\n",
    "print(newdic)"
   ]
  },
  {
   "cell_type": "code",
   "execution_count": 51,
   "metadata": {},
   "outputs": [
    {
     "name": "stdout",
     "output_type": "stream",
     "text": [
      "name:krhoneyy\n",
      "grade:y\n",
      "address:Nagpur\n"
     ]
    }
   ],
   "source": [
    "for keys,value in newdic.items():\n",
    "    print(f\"{keys}:{value}\")"
   ]
  },
  {
   "cell_type": "code",
   "execution_count": 53,
   "metadata": {},
   "outputs": [
    {
     "name": "stdout",
     "output_type": "stream",
     "text": [
      "{'name': 'suraj', 'age': 11, 'grade': 'y', 'address': 'Nagpur', 'hobbies': ['reading', 'swimming']}\n",
      "{'name': 'suraj', 'age': 11, 'grade': 'y', 'address': 'Nagpur', 'hobbies': ['reading', 'swimming', 'painting']}\n"
     ]
    }
   ],
   "source": [
    "#nested dictionary\n",
    "nested_dict = {'name': 'suraj', 'age': 11, 'grade': 'y', 'address': 'Nagpur', 'hobbies': ['reading', 'swimming']}\n",
    "print(nested_dict)\n",
    "nested_dict[\"hobbies\"].append(\"painting\")\n",
    "print(nested_dict)"
   ]
  },
  {
   "cell_type": "code",
   "execution_count": 54,
   "metadata": {},
   "outputs": [
    {
     "name": "stdout",
     "output_type": "stream",
     "text": [
      "peter\n"
     ]
    }
   ],
   "source": [
    "Classroom = {\n",
    "    \"s1\": {\"name\": \"peter\", \"age\": 99 },\n",
    "    \"s2\": {\"name\": \"john\", \"age\": 100 },\n",
    "    \"s3\": {\"name\": \"mary\", \"age\": 98 }\n",
    "}\n",
    "print(Classroom[\"s1\"][\"name\"])\n"
   ]
  },
  {
   "cell_type": "code",
   "execution_count": 61,
   "metadata": {},
   "outputs": [
    {
     "name": "stdout",
     "output_type": "stream",
     "text": [
      "s1:99\n",
      "s2:100\n",
      "s3:98\n"
     ]
    }
   ],
   "source": [
    "# Iterating over nested_dict\n",
    "\n",
    "for key, value in Classroom.items():\n",
    "    print(f\"{key}:{value['age']}\")"
   ]
  },
  {
   "cell_type": "code",
   "execution_count": 62,
   "metadata": {},
   "outputs": [
    {
     "name": "stdout",
     "output_type": "stream",
     "text": [
      "s1: {'name': 'peter', 'age': 99}\n",
      "name: peter\n",
      "age: 99\n",
      "s2: {'name': 'john', 'age': 100}\n",
      "name: john\n",
      "age: 100\n",
      "s3: {'name': 'mary', 'age': 98}\n",
      "name: mary\n",
      "age: 98\n"
     ]
    }
   ],
   "source": [
    "for key, value in Classroom.items():\n",
    "    print(f\"{key}: {value}\")\n",
    "    for k,v in value.items():\n",
    "        print(f\"{k}: {v}\")\n",
    "          "
   ]
  },
  {
   "cell_type": "code",
   "execution_count": 66,
   "metadata": {},
   "outputs": [
    {
     "data": {
      "text/plain": [
       "{0: 0, 1: 1, 2: 4, 3: 9, 4: 16}"
      ]
     },
     "execution_count": 66,
     "metadata": {},
     "output_type": "execute_result"
    }
   ],
   "source": [
    "# dictionary  comprehention\n",
    "sq = { x:x**2 for x in range(5)}\n",
    "sq"
   ]
  },
  {
   "cell_type": "code",
   "execution_count": 7,
   "metadata": {},
   "outputs": [
    {
     "name": "stdout",
     "output_type": "stream",
     "text": [
      "{1: 1, 2: 2, 3: 2, 4: 1, 5: 3, 44: 1}\n"
     ]
    }
   ],
   "source": [
    "# Practical Examples\n",
    "ls = [1,2,3,4,5,44,5,2,3,5]\n",
    "frequencies = {}\n",
    "for i in ls:\n",
    "    if i in frequencies:\n",
    "        frequencies[i] += 1\n",
    "    else:\n",
    "        frequencies[i] = 1\n",
    "print(frequencies)"
   ]
  },
  {
   "cell_type": "code",
   "execution_count": 9,
   "metadata": {},
   "outputs": [
    {
     "data": {
      "text/plain": [
       "{'a': 1, 'b': 2, 'c': 3, 'd': 4}"
      ]
     },
     "execution_count": 9,
     "metadata": {},
     "output_type": "execute_result"
    }
   ],
   "source": [
    "# merged two dictionaries\n",
    "dicts = {\"a\":1, \"b\":2}\n",
    "dict2 = {\"c\":3, \"d\":4}\n",
    "merged = {**dicts, **dict2}\n",
    "merged\n"
   ]
  }
 ],
 "metadata": {
  "kernelspec": {
   "display_name": "langchain",
   "language": "python",
   "name": "python3"
  },
  "language_info": {
   "codemirror_mode": {
    "name": "ipython",
    "version": 3
   },
   "file_extension": ".py",
   "mimetype": "text/x-python",
   "name": "python",
   "nbconvert_exporter": "python",
   "pygments_lexer": "ipython3",
   "version": "3.11.9"
  }
 },
 "nbformat": 4,
 "nbformat_minor": 2
}
