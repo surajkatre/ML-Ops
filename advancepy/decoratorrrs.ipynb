{
 "cells": [
  {
   "cell_type": "code",
   "execution_count": 1,
   "metadata": {},
   "outputs": [],
   "source": [
    "# fucntion copyy\n",
    "def wlcome():\n",
    "    return \"wekcome to the fking code\""
   ]
  },
  {
   "cell_type": "code",
   "execution_count": 3,
   "metadata": {},
   "outputs": [
    {
     "data": {
      "text/plain": [
       "'wekcome to the fking code'"
      ]
     },
     "execution_count": 3,
     "metadata": {},
     "output_type": "execute_result"
    }
   ],
   "source": [
    "wlcome()"
   ]
  },
  {
   "cell_type": "code",
   "execution_count": 6,
   "metadata": {},
   "outputs": [
    {
     "data": {
      "text/plain": [
       "'wekcome to the fking code'"
      ]
     },
     "execution_count": 6,
     "metadata": {},
     "output_type": "execute_result"
    }
   ],
   "source": [
    "wlc = wlcome()\n",
    "wlc\n",
    "del wlcome\n",
    "wlc"
   ]
  },
  {
   "cell_type": "code",
   "execution_count": 15,
   "metadata": {},
   "outputs": [],
   "source": [
    "# # closures\n",
    "\n",
    "# a funciton inside a function\n",
    "def welcome():\n",
    "    # return \"Welcome to cosure\"\n",
    "    msg = \"welcome\"\n",
    "    def sub_wlcome():\n",
    "        print(\"wlcome to the sub functio  closure\")\n",
    "        print(f\"{msg} to the cosure\")\n",
    "        print(\"now go to hell as well\")\n",
    "    return sub_wlcome()"
   ]
  },
  {
   "cell_type": "code",
   "execution_count": 16,
   "metadata": {},
   "outputs": [
    {
     "name": "stdout",
     "output_type": "stream",
     "text": [
      "wlcome to the sub functio  closure\n",
      "welcome to the cosure\n",
      "now go to hell as well\n"
     ]
    }
   ],
   "source": [
    "welcome()"
   ]
  },
  {
   "cell_type": "code",
   "execution_count": 29,
   "metadata": {},
   "outputs": [],
   "source": [
    "def welcome(func, lst):\n",
    "    # return \"Welcome to cosure\"\n",
    "    msg = \"welcome\"\n",
    "    def sub_wlcome():\n",
    "        print(\"wlcome to the sub functio  closure\")\n",
    "        # func(\"go to hell\")\n",
    "        print(func(lst))\n",
    "        # len()\n",
    "\n",
    "        print(\"now go to hell as well\")\n",
    "    return sub_wlcome()"
   ]
  },
  {
   "cell_type": "code",
   "execution_count": 33,
   "metadata": {},
   "outputs": [
    {
     "name": "stdout",
     "output_type": "stream",
     "text": [
      "wlcome to the sub functio  closure\n",
      "8\n",
      "now go to hell as well\n"
     ]
    }
   ],
   "source": [
    "welcome(len,[1,2,3,4,5,6,7,8])"
   ]
  },
  {
   "cell_type": "code",
   "execution_count": 42,
   "metadata": {},
   "outputs": [],
   "source": [
    "# Decorators creation\n",
    "def welcome(func):\n",
    "    # return \"Welcome to cosure\"\n",
    "    msg = \"welcome\"\n",
    "    def sub_wlcome():\n",
    "        print(\"wlcome to the sub functio  closure\")\n",
    "        func()\n",
    "        # print(func(lst))\n",
    "        # len()\n",
    "\n",
    "        print(\"now go to hell as well\")\n",
    "    return sub_wlcome()\n"
   ]
  },
  {
   "cell_type": "code",
   "execution_count": 43,
   "metadata": {},
   "outputs": [],
   "source": [
    "def courceinto():\n",
    "    print(\"this is a advance\")"
   ]
  },
  {
   "cell_type": "code",
   "execution_count": 44,
   "metadata": {},
   "outputs": [
    {
     "name": "stdout",
     "output_type": "stream",
     "text": [
      "wlcome to the sub functio  closure\n",
      "this is a advance\n",
      "now go to hell as well\n"
     ]
    }
   ],
   "source": [
    "welcome(courceinto)"
   ]
  },
  {
   "cell_type": "code",
   "execution_count": 45,
   "metadata": {},
   "outputs": [
    {
     "name": "stdout",
     "output_type": "stream",
     "text": [
      "wlcome to the sub functio  closure\n",
      "this is a advance\n",
      "now go to hell as well\n"
     ]
    }
   ],
   "source": [
    "@welcome\n",
    "def courceinto():\n",
    "    print(\"this is a advance\")"
   ]
  },
  {
   "cell_type": "code",
   "execution_count": 46,
   "metadata": {},
   "outputs": [],
   "source": [
    "def help(func):\n",
    "    def notnow():\n",
    "      print(\"this is a advance\")\n",
    "      func()\n",
    "      print(\"now go to hell as well\")\n",
    "    return notnow\n",
    "\n",
    " "
   ]
  },
  {
   "cell_type": "code",
   "execution_count": 47,
   "metadata": {},
   "outputs": [],
   "source": [
    "@help\n",
    "def say():\n",
    "    print(\"this is a help\")"
   ]
  },
  {
   "cell_type": "code",
   "execution_count": 48,
   "metadata": {},
   "outputs": [
    {
     "name": "stdout",
     "output_type": "stream",
     "text": [
      "this is a advance\n",
      "this is a help\n",
      "now go to hell as well\n"
     ]
    }
   ],
   "source": [
    "say()"
   ]
  },
  {
   "cell_type": "code",
   "execution_count": 49,
   "metadata": {},
   "outputs": [],
   "source": [
    "# decoratord with arguments\n",
    "def repeat(n):\n",
    "    def decorator(func):\n",
    "        def wrapper(*args, **kwargs):\n",
    "            for _ in range(n):\n",
    "                func(*args, **kwargs)\n",
    "        return wrapper\n",
    "    return decorator\n",
    "\n",
    "@repeat(3)\n",
    "def say():\n",
    "    print(\"this is a help\")"
   ]
  },
  {
   "cell_type": "code",
   "execution_count": 50,
   "metadata": {},
   "outputs": [
    {
     "name": "stdout",
     "output_type": "stream",
     "text": [
      "this is a help\n",
      "this is a help\n",
      "this is a help\n"
     ]
    }
   ],
   "source": [
    "say()"
   ]
  }
 ],
 "metadata": {
  "kernelspec": {
   "display_name": "langchain",
   "language": "python",
   "name": "python3"
  },
  "language_info": {
   "codemirror_mode": {
    "name": "ipython",
    "version": 3
   },
   "file_extension": ".py",
   "mimetype": "text/x-python",
   "name": "python",
   "nbconvert_exporter": "python",
   "pygments_lexer": "ipython3",
   "version": "3.11.9"
  }
 },
 "nbformat": 4,
 "nbformat_minor": 2
}
