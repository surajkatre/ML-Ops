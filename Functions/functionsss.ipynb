{
 "cells": [
  {
   "cell_type": "code",
   "execution_count": 11,
   "metadata": {},
   "outputs": [
    {
     "data": {
      "text/plain": [
       "5"
      ]
     },
     "execution_count": 11,
     "metadata": {},
     "output_type": "execute_result"
    }
   ],
   "source": [
    "# fucntion with multiple param\n",
    "def add(a,b):\n",
    "    sum =0\n",
    "    sum = a+b\n",
    "    # return sum\n",
    "    return a+b\n",
    "add(2,3)\n",
    "   "
   ]
  },
  {
   "cell_type": "code",
   "execution_count": 8,
   "metadata": {},
   "outputs": [
    {
     "name": "stdout",
     "output_type": "stream",
     "text": [
      "even\n"
     ]
    }
   ],
   "source": [
    "def evenodd(num):\n",
    "    \"this function chec evenodd number\"\n",
    "    if num%2==0:\n",
    "        print(\"even\")\n",
    "    else:\n",
    "        print(\"odd\")\n",
    "evenodd(12)\n"
   ]
  },
  {
   "cell_type": "code",
   "execution_count": 12,
   "metadata": {},
   "outputs": [
    {
     "name": "stdout",
     "output_type": "stream",
     "text": [
      "Hello, World!\n",
      "Hello, John!\n"
     ]
    }
   ],
   "source": [
    "# defaualt param\n",
    "def greet(name=\"World\"):\n",
    "    print(f\"Hello, {name}!\")\n",
    "greet()\n",
    "greet(\"John\")\n",
    "\n",
    "# *args and **kwargs"
   ]
  },
  {
   "cell_type": "code",
   "execution_count": 17,
   "metadata": {},
   "outputs": [
    {
     "data": {
      "text/plain": [
       "120"
      ]
     },
     "execution_count": 17,
     "metadata": {},
     "output_type": "execute_result"
    }
   ],
   "source": [
    "# variable  length argument\n",
    "# positional and keywords args\n",
    "def multiply(*args):\n",
    "    result = 1\n",
    "    for i in args:\n",
    "        result *= i\n",
    "    return result\n",
    "multiply(2,3,4,5)\n",
    "\n"
   ]
  },
  {
   "cell_type": "code",
   "execution_count": 19,
   "metadata": {},
   "outputs": [
    {
     "data": {
      "text/plain": [
       "5.0"
      ]
     },
     "execution_count": 19,
     "metadata": {},
     "output_type": "execute_result"
    }
   ],
   "source": [
    "def divide(**kwargs):\n",
    "    result = kwargs.get(\"num1\", 0) / kwargs.get(\"num2\", 1)\n",
    "    return result\n",
    "divide(num1=10, num2=2)"
   ]
  },
  {
   "cell_type": "code",
   "execution_count": 20,
   "metadata": {},
   "outputs": [
    {
     "name": "stdout",
     "output_type": "stream",
     "text": [
      "name:suraj\n",
      "age:10\n"
     ]
    }
   ],
   "source": [
    "# Keyword args\n",
    "def print_detail(**kwargs):\n",
    "    for key, val in kwargs.items():\n",
    "        print(f\"{key}:{val}\")\n",
    "print_detail(name= \"suraj\", age = 10)\n",
    "     "
   ]
  },
  {
   "cell_type": "code",
   "execution_count": 1,
   "metadata": {},
   "outputs": [
    {
     "name": "stdout",
     "output_type": "stream",
     "text": [
      ":1\n",
      ":2\n",
      ":3\n",
      "name:Alice\n",
      "age:25\n"
     ]
    }
   ],
   "source": [
    "def det(*args, **kwargs):\n",
    "    for i in args:\n",
    "        print(f\":{i}\")\n",
    "    for key, val in kwargs.items():\n",
    "        print(f\"{key}:{val}\")\n",
    "\n",
    "# Example usage\n",
    "det(1, 2, 3, name=\"Alice\", age=25)\n"
   ]
  },
  {
   "cell_type": "code",
   "execution_count": 6,
   "metadata": {},
   "outputs": [],
   "source": [
    "# return statement\n",
    "def multplly(a,b):\n",
    "\n",
    "    return a*b\n",
    "#  return a*b,a we ca return multiple parm as awell \n",
    "\n",
    "\n",
    "result = multplly(2,3)\n"
   ]
  },
  {
   "cell_type": "code",
   "execution_count": 11,
   "metadata": {},
   "outputs": [
    {
     "name": "stdout",
     "output_type": "stream",
     "text": [
      "89.6\n",
      "31.666666666666668\n"
     ]
    }
   ],
   "source": [
    "def convert(temp, unit):\n",
    "    if unit == \"C\":\n",
    "        return temp * 9/5 + 32\n",
    "    elif unit == \"F\":\n",
    "        return (temp - 32) * 5/9\n",
    "    else:\n",
    "        return \"Invalid unit\"\n",
    "print(convert(32, \"C\"))\n",
    "print(convert(89, \"F\"))\n",
    "\n"
   ]
  },
  {
   "cell_type": "code",
   "execution_count": 16,
   "metadata": {},
   "outputs": [
    {
     "name": "stdout",
     "output_type": "stream",
     "text": [
      "Password is valid\n",
      "Password is valid\n"
     ]
    }
   ],
   "source": [
    "# Password checl\n",
    "def checkthepassword(password):\n",
    "    if len(password) < 8:\n",
    "        return \"Password should be at least 8 characters long\"\n",
    "    elif not any(char.isdigit() for char in password):\n",
    "        return \"Password should contain at least one digit\"\n",
    "    elif not any(char.isupper() for char in password):\n",
    "        return \"Password should contain at least one uppercase letter\"\n",
    "    elif not any(char.islower() for char in password):\n",
    "        return \"Password should contain at least one lowercase letter\"\n",
    "    elif not any(char in \"!@#$%^&*()\" for char in password):\n",
    "        return \"Password should contain at least one special character\"\n",
    "    else:\n",
    "        return \"Password is valid\"\n",
    "print(checkthepassword(\"P@ssword123\"))\n",
    "print(checkthepassword(\"weakpasswoO8\"))"
   ]
  },
  {
   "cell_type": "code",
   "execution_count": 21,
   "metadata": {},
   "outputs": [
    {
     "data": {
      "text/plain": [
       "82.9"
      ]
     },
     "execution_count": 21,
     "metadata": {},
     "output_type": "execute_result"
    }
   ],
   "source": [
    "def calculate_cost(cart):\n",
    "    total = 0\n",
    "    for item in cart:\n",
    "        total += item[\"price\"] * item[\"quant\"]\n",
    "    return total\n",
    "cart = [{\"name\": \"apple\", \"price\": 23,\"quant\": 2}, {\"name\": \"banan\", \"price\": 3, \"quant\": 12}, {\"name\": \"orange\", \"price\": 0.1, \"quant\": 9}]\n",
    "(calculate_cost(cart))"
   ]
  },
  {
   "cell_type": "code",
   "execution_count": 27,
   "metadata": {},
   "outputs": [
    {
     "name": "stdout",
     "output_type": "stream",
     "text": [
      "True\n",
      "False\n"
     ]
    }
   ],
   "source": [
    "# palindrome example\n",
    "\n",
    "\n",
    "def is_palindrome(word):\n",
    "    word= word.lower().replace(\" \",\"\")\n",
    "    return word == word[::-1]\n",
    "\n",
    "print(is_palindrome(\"naman\"))\n",
    "print(is_palindrome(\"hello world\"))"
   ]
  },
  {
   "cell_type": "code",
   "execution_count": 28,
   "metadata": {},
   "outputs": [
    {
     "data": {
      "text/plain": [
       "6"
      ]
     },
     "execution_count": 28,
     "metadata": {},
     "output_type": "execute_result"
    }
   ],
   "source": [
    "def factorial(n):\n",
    "    if n==0:\n",
    "        return 1\n",
    "    else:\n",
    "        return n * factorial(n-1)\n",
    "factorial(3)"
   ]
  },
  {
   "cell_type": "code",
   "execution_count": 29,
   "metadata": {},
   "outputs": [
    {
     "data": {
      "text/plain": [
       "5"
      ]
     },
     "execution_count": 29,
     "metadata": {},
     "output_type": "execute_result"
    }
   ],
   "source": [
    "# reading a file and counting words\n",
    "\n",
    "\n",
    "def count_words(file_path):\n",
    "    with open(file_path, \"r\") as file:\n",
    "        text = file.read()\n",
    "        words = text.split()\n",
    "        return len(words)\n",
    "count_words(\"abc.txt\")\n",
    "    "
   ]
  },
  {
   "cell_type": "code",
   "execution_count": null,
   "metadata": {},
   "outputs": [],
   "source": [
    "# def count_word_frequency(file_path):\n",
    "# word_count={}\n",
    "# with open(file_path,'r') as file:\n",
    "# for line in file:\n",
    "# words=line.split()\n",
    "# for word in words:\n",
    "# word=word.lower().strip('.,!? ; : \"\\' ')\n",
    "# word_count [word]=word_count.get(word, 0)+1\n",
    "# return word_count\n",
    "# filepath='sample.txt'\n",
    "# word_frequency=count_word_frequency(filepath)"
   ]
  },
  {
   "cell_type": "code",
   "execution_count": 32,
   "metadata": {},
   "outputs": [
    {
     "data": {
      "text/plain": [
       "False"
      ]
     },
     "execution_count": 32,
     "metadata": {},
     "output_type": "execute_result"
    }
   ],
   "source": [
    "# vaidate email address\n",
    "import re\n",
    "# Email validation function\n",
    "def is_valid_email(email):\n",
    "    \"\"\"This function checks if the email is valid\"\"\"\n",
    "    pattern = r'^[a-zA-Z0-9_.+-]+@[a-zA-Z0-9-]+\\.[a-zA-Z0-9-.]+$'\n",
    "    return bool(re.match(pattern, email))\n",
    "is_valid_email(\"surajemai.com\")"
   ]
  }
 ],
 "metadata": {
  "kernelspec": {
   "display_name": "langchain",
   "language": "python",
   "name": "python3"
  },
  "language_info": {
   "codemirror_mode": {
    "name": "ipython",
    "version": 3
   },
   "file_extension": ".py",
   "mimetype": "text/x-python",
   "name": "python",
   "nbconvert_exporter": "python",
   "pygments_lexer": "ipython3",
   "version": "3.11.9"
  }
 },
 "nbformat": 4,
 "nbformat_minor": 2
}
